{
  "nbformat": 4,
  "nbformat_minor": 0,
  "metadata": {
    "colab": {
      "provenance": []
    },
    "kernelspec": {
      "name": "python3",
      "display_name": "Python 3"
    },
    "language_info": {
      "name": "python"
    }
  },
  "cells": [
    {
      "cell_type": "markdown",
      "source": [
        "## DATA STRUCTURE ASSIGNMENT"
      ],
      "metadata": {
        "id": "T1WjOqb7IZBV"
      }
    },
    {
      "cell_type": "markdown",
      "source": [
        "1. **What are data structures, and why are they important?**  \n",
        "   Data structures are ways to organize and store data efficiently. They are important because they enable efficient data access, modification, and management, improving program performance.  \n",
        "\n",
        "2. **Explain the difference between mutable and immutable data types with examples.**  \n",
        "   Mutable types (e.g., lists, dictionaries) can be modified after creation, while immutable types (e.g., tuples, strings) cannot be changed once assigned.  \n",
        "\n",
        "3. **What are the main differences between lists and tuples in Python?**  \n",
        "   Lists are mutable, slower, and use more memory, while tuples are immutable, faster, and consume less memory.  \n",
        "\n",
        "4. **Describe how dictionaries store data.**  \n",
        "   Dictionaries store data as key-value pairs using a hash table, enabling fast lookups and modifications.  \n",
        "\n",
        "5. **Why might you use a set instead of a list in Python?**  \n",
        "   Sets remove duplicate values automatically and offer faster membership tests compared to lists.  \n",
        "\n",
        "6. **What is a string in Python, and how is it different from a list?**  \n",
        "   A string is an immutable sequence of characters, whereas a list is mutable and can hold elements of different data types.  \n",
        "\n",
        "7. **How do tuples ensure data integrity in Python?**  \n",
        "   Tuples are immutable, preventing accidental modification and ensuring data remains unchanged.  \n",
        "\n",
        "8. **What is a hash table, and how does it relate to dictionaries in Python?**  \n",
        "   A hash table is a data structure that maps keys to values using a hashing function, which is how Python dictionaries store data efficiently.  \n",
        "\n",
        "9. **Can lists contain different data types in Python?**  \n",
        "   Yes, lists in Python can store elements of different data types, including numbers, strings, and objects.  \n",
        "\n",
        "10. **Explain why strings are immutable in Python.**  \n",
        "   Strings are immutable to enhance security, optimize memory usage, and allow efficient string interning.  \n",
        "\n",
        "11. **What advantages do dictionaries offer over lists for certain tasks?**  \n",
        "   Dictionaries provide faster lookups using keys, making them ideal for tasks requiring quick data retrieval.  \n",
        "\n",
        "12. **How do sets handle duplicate values in Python?**  \n",
        "   Sets automatically remove duplicate values, ensuring all elements are unique.  \n",
        "\n",
        "13. **Describe a scenario where using a tuple would be preferable over a list.**  \n",
        "   Tuples are preferable for storing fixed data like database records or function return values that shouldn't be modified.  \n",
        "\n",
        "14. **How does the “in” keyword work differently for lists and dictionaries?**  \n",
        "   In lists, it checks for the presence of a value, while in dictionaries, it checks for the presence of a key.  \n",
        "\n",
        "15. **Can you modify the elements of a tuple? Explain why or why not.**  \n",
        "   No, tuples are immutable, meaning their elements cannot be changed after creation.  \n",
        "\n",
        "16. **What is a nested dictionary, and give an example of its use case?**  \n",
        "   A nested dictionary is a dictionary within another dictionary, useful for storing hierarchical data like employee records.  \n",
        "\n",
        "17. **Describe the time complexity of accessing elements in a dictionary.**  \n",
        "   Accessing elements in a dictionary has an average time complexity of O(1) due to hash table indexing.  \n",
        "\n",
        "18. **In what situations are lists preferred over dictionaries?**  \n",
        "   Lists are preferred when order matters, or when storing sequential data without requiring key-value lookups.  \n",
        "\n",
        "19. **Why are dictionaries considered unordered, and how does that affect data retrieval?**  \n",
        "   Before Python 3.7, dictionaries were unordered because they relied on hash tables; this meant data retrieval was not in insertion order.  \n",
        "\n",
        "20. **Explain the difference between a list and a dictionary in terms of data retrieval.**  \n",
        "   Lists retrieve elements by index, requiring O(n) for searching, while dictionaries use key-based lookups, providing O(1) retrieval."
      ],
      "metadata": {
        "id": "pGyfYM3zJrDo"
      }
    },
    {
      "cell_type": "markdown",
      "source": [
        "# 1. Write a code to create a string with your name and print it.\n",
        "\n"
      ],
      "metadata": {
        "id": "2r1DCFdRKCSG"
      }
    },
    {
      "cell_type": "code",
      "source": [
        "name = \"YourName\"\n",
        "print(name)\n"
      ],
      "metadata": {
        "colab": {
          "base_uri": "https://localhost:8080/"
        },
        "id": "Q_z44Lc1TiBk",
        "outputId": "44db34f4-58ef-4a6a-90c9-3c3702dec1a8"
      },
      "execution_count": 1,
      "outputs": [
        {
          "output_type": "stream",
          "name": "stdout",
          "text": [
            "YourName\n"
          ]
        }
      ]
    },
    {
      "cell_type": "markdown",
      "source": [
        "# 2. Write a code to find the length of the string \"Hello World\"\n"
      ],
      "metadata": {
        "id": "aNoszU1mVBgI"
      }
    },
    {
      "cell_type": "code",
      "source": [
        "print(len(\"Hello World\"))"
      ],
      "metadata": {
        "id": "cM8Tb7ntVMHj",
        "colab": {
          "base_uri": "https://localhost:8080/"
        },
        "outputId": "c1d6e355-4059-45e5-df6d-49c12955d5ee"
      },
      "execution_count": 2,
      "outputs": [
        {
          "output_type": "stream",
          "name": "stdout",
          "text": [
            "11\n"
          ]
        }
      ]
    },
    {
      "cell_type": "markdown",
      "source": [
        "# 3. Write a code to slice the first 3 characters from the string \"Python Programming\"\n"
      ],
      "metadata": {
        "id": "iPx2xcnzVMxY"
      }
    },
    {
      "cell_type": "code",
      "source": [
        "print(\"Python Programming\"[:3])"
      ],
      "metadata": {
        "id": "PvMzMHFHVNS5",
        "colab": {
          "base_uri": "https://localhost:8080/"
        },
        "outputId": "e2144748-ba84-4ab9-a5a7-14f4f0b387aa"
      },
      "execution_count": 3,
      "outputs": [
        {
          "output_type": "stream",
          "name": "stdout",
          "text": [
            "Pyt\n"
          ]
        }
      ]
    },
    {
      "cell_type": "markdown",
      "source": [
        "# 4. Write a code to convert the string \"hello\" to uppercase\n",
        "\n"
      ],
      "metadata": {
        "id": "_x_YCTkKVOfo"
      }
    },
    {
      "cell_type": "code",
      "source": [
        "print(\"hello\".upper())"
      ],
      "metadata": {
        "id": "5NOhnAR1VSBw",
        "colab": {
          "base_uri": "https://localhost:8080/"
        },
        "outputId": "58dea1c9-2f62-489d-eac3-0053c0e2ff59"
      },
      "execution_count": 4,
      "outputs": [
        {
          "output_type": "stream",
          "name": "stdout",
          "text": [
            "HELLO\n"
          ]
        }
      ]
    },
    {
      "cell_type": "markdown",
      "source": [
        "# 5. Write a code to replace \"apple\" with \"orange\" in the string \"I like apple\"\n",
        "\n"
      ],
      "metadata": {
        "id": "e0TYRbW8VOGz"
      }
    },
    {
      "cell_type": "code",
      "source": [
        "print(\"I like apple\".replace(\"apple\", \"orange\"))"
      ],
      "metadata": {
        "id": "op7Be5qgVTW8",
        "colab": {
          "base_uri": "https://localhost:8080/"
        },
        "outputId": "773fcc30-35c3-40e1-923d-854eff96b15f"
      },
      "execution_count": 5,
      "outputs": [
        {
          "output_type": "stream",
          "name": "stdout",
          "text": [
            "I like orange\n"
          ]
        }
      ]
    },
    {
      "cell_type": "markdown",
      "source": [
        "# 6.Write a code to create a list with numbers 1 to 5 and print it\n",
        "\n"
      ],
      "metadata": {
        "id": "QpbkQS8ZVUB-"
      }
    },
    {
      "cell_type": "code",
      "source": [
        "numbers = [1, 2, 3, 4, 5]\n",
        "print(numbers)"
      ],
      "metadata": {
        "id": "-3UlxXlSVUit",
        "colab": {
          "base_uri": "https://localhost:8080/"
        },
        "outputId": "2acbcd26-860d-4171-eea9-b1b8612373e2"
      },
      "execution_count": 6,
      "outputs": [
        {
          "output_type": "stream",
          "name": "stdout",
          "text": [
            "[1, 2, 3, 4, 5]\n"
          ]
        }
      ]
    },
    {
      "cell_type": "markdown",
      "source": [
        "# 7. Write a code to append the number 10 to the list [1, 2, 3, 4]\n"
      ],
      "metadata": {
        "id": "5UiFSc7HVVMB"
      }
    },
    {
      "cell_type": "code",
      "source": [
        "lst = [1, 2, 3, 4]\n",
        "lst.append(10)\n",
        "print(lst)"
      ],
      "metadata": {
        "id": "vz1a5LGAV0zd",
        "colab": {
          "base_uri": "https://localhost:8080/"
        },
        "outputId": "1bb0a7ba-c880-4bad-b87d-b7e3cab661cc"
      },
      "execution_count": 7,
      "outputs": [
        {
          "output_type": "stream",
          "name": "stdout",
          "text": [
            "[1, 2, 3, 4, 10]\n"
          ]
        }
      ]
    },
    {
      "cell_type": "markdown",
      "source": [
        "# 8.Write a code to remove the number 3 from the list [1, 2, 3, 4, 5]\n",
        "\n",
        "\n"
      ],
      "metadata": {
        "id": "eCLzFtsJV1do"
      }
    },
    {
      "cell_type": "code",
      "source": [
        "lst = [1, 2, 3, 4, 5]\n",
        "lst.remove(3)\n",
        "print(lst)\n"
      ],
      "metadata": {
        "id": "R-wc-Mz-V2C0",
        "colab": {
          "base_uri": "https://localhost:8080/"
        },
        "outputId": "7e38d646-81b0-41ef-b994-59198a8d2ce5"
      },
      "execution_count": 8,
      "outputs": [
        {
          "output_type": "stream",
          "name": "stdout",
          "text": [
            "[1, 2, 4, 5]\n"
          ]
        }
      ]
    },
    {
      "cell_type": "markdown",
      "source": [
        "# 9. Write a code to access the second element in the list ['a', 'b', 'c', 'd']\n",
        "\n",
        "\n"
      ],
      "metadata": {
        "id": "K4ODvCldV3Yp"
      }
    },
    {
      "cell_type": "code",
      "source": [
        "print(['a', 'b', 'c', 'd'][1])"
      ],
      "metadata": {
        "id": "y2_lksz2V34N",
        "colab": {
          "base_uri": "https://localhost:8080/"
        },
        "outputId": "05a65d30-fad3-4431-bbe0-9e47eea9da85"
      },
      "execution_count": 9,
      "outputs": [
        {
          "output_type": "stream",
          "name": "stdout",
          "text": [
            "b\n"
          ]
        }
      ]
    },
    {
      "cell_type": "markdown",
      "source": [
        "# 10. Write a code to reverse the list [10, 20, 30, 40, 50]\n"
      ],
      "metadata": {
        "id": "Eo7K_cUGV4jH"
      }
    },
    {
      "cell_type": "code",
      "source": [
        "print([10, 20, 30, 40, 50][::-1])"
      ],
      "metadata": {
        "id": "af2TW6w9V5Fl",
        "colab": {
          "base_uri": "https://localhost:8080/"
        },
        "outputId": "23dfa737-ac9b-4acd-b1fb-d8ed4c72cb54"
      },
      "execution_count": 10,
      "outputs": [
        {
          "output_type": "stream",
          "name": "stdout",
          "text": [
            "[50, 40, 30, 20, 10]\n"
          ]
        }
      ]
    },
    {
      "cell_type": "markdown",
      "source": [
        "# 11. Write a code to create a tuple with the elements 100, 200, 300 and print it\n",
        "\n",
        "\n"
      ],
      "metadata": {
        "id": "MVdAk7Fcbu_2"
      }
    },
    {
      "cell_type": "code",
      "source": [
        "tpl = (100, 200, 300)\n",
        "print(tpl)"
      ],
      "metadata": {
        "id": "DnjzISnDbviG",
        "colab": {
          "base_uri": "https://localhost:8080/"
        },
        "outputId": "52f6c07e-a36c-451d-bdad-7cbe1750a481"
      },
      "execution_count": 11,
      "outputs": [
        {
          "output_type": "stream",
          "name": "stdout",
          "text": [
            "(100, 200, 300)\n"
          ]
        }
      ]
    },
    {
      "cell_type": "markdown",
      "source": [
        "# 12. Write a code to access the second-to-last element of the tuple ('red', 'green', 'blue', 'yellow')\n",
        "\n",
        "\n"
      ],
      "metadata": {
        "id": "wNi_xglAbv9M"
      }
    },
    {
      "cell_type": "code",
      "source": [
        "print(('red', 'green', 'blue', 'yellow')[-2])"
      ],
      "metadata": {
        "id": "G4khTaEobwYg",
        "colab": {
          "base_uri": "https://localhost:8080/"
        },
        "outputId": "6b7c04f4-eb19-4e8e-c24a-c8f1eec2db07"
      },
      "execution_count": 12,
      "outputs": [
        {
          "output_type": "stream",
          "name": "stdout",
          "text": [
            "blue\n"
          ]
        }
      ]
    },
    {
      "cell_type": "markdown",
      "source": [
        "# 13. Write a code to find the minimum number in the tuple (10, 20, 5, 15)\n",
        "\n",
        "\n"
      ],
      "metadata": {
        "id": "Wg2MH-Otbwwl"
      }
    },
    {
      "cell_type": "code",
      "source": [
        "print(min((10, 20, 5, 15)))"
      ],
      "metadata": {
        "id": "z6CiJhHJbxMA",
        "colab": {
          "base_uri": "https://localhost:8080/"
        },
        "outputId": "5afc3b85-e2b0-4291-efc9-04d26481cf0d"
      },
      "execution_count": 13,
      "outputs": [
        {
          "output_type": "stream",
          "name": "stdout",
          "text": [
            "5\n"
          ]
        }
      ]
    },
    {
      "cell_type": "markdown",
      "source": [
        "# 14. Write a code to find the index of \"cat\" in the tuple ('dog', 'cat', 'rabbit')\n",
        "\n",
        "\n"
      ],
      "metadata": {
        "id": "JzhZQVVobxmB"
      }
    },
    {
      "cell_type": "code",
      "source": [
        "print(('dog', 'cat', 'rabbit').index(\"cat\"))"
      ],
      "metadata": {
        "id": "Mt253eOUbyGH",
        "colab": {
          "base_uri": "https://localhost:8080/"
        },
        "outputId": "6a083c61-70bb-43ed-e2aa-58c47114e579"
      },
      "execution_count": 14,
      "outputs": [
        {
          "output_type": "stream",
          "name": "stdout",
          "text": [
            "1\n"
          ]
        }
      ]
    },
    {
      "cell_type": "markdown",
      "source": [
        "# 15. Write a code to create a tuple with three fruits and check if \"kiwi\" is in it\n"
      ],
      "metadata": {
        "id": "XA884uPgbymE"
      }
    },
    {
      "cell_type": "code",
      "source": [
        "fruits = (\"apple\", \"banana\", \"orange\")\n",
        "print(\"kiwi\" in fruits)"
      ],
      "metadata": {
        "id": "IncI2N8abzAh",
        "colab": {
          "base_uri": "https://localhost:8080/"
        },
        "outputId": "426d9309-23cc-4900-fae3-09037b437fb1"
      },
      "execution_count": 15,
      "outputs": [
        {
          "output_type": "stream",
          "name": "stdout",
          "text": [
            "False\n"
          ]
        }
      ]
    },
    {
      "cell_type": "markdown",
      "source": [
        "# 16. Write a code to create a set with elements 'a', 'b', 'c' and print it\n",
        "\n"
      ],
      "metadata": {
        "id": "kiZl6DK-bzhC"
      }
    },
    {
      "cell_type": "code",
      "source": [
        "s = {'a', 'b', 'c'}\n",
        "print(s)"
      ],
      "metadata": {
        "id": "M-b8WorGbz53",
        "colab": {
          "base_uri": "https://localhost:8080/"
        },
        "outputId": "ec8aabd8-bb25-4acc-8fbb-ddbf018f6603"
      },
      "execution_count": 16,
      "outputs": [
        {
          "output_type": "stream",
          "name": "stdout",
          "text": [
            "{'b', 'c', 'a'}\n"
          ]
        }
      ]
    },
    {
      "cell_type": "markdown",
      "source": [
        "\n",
        "# 17.Write a code to  clear all elements from the set {1, 2, 3, 4, 5}\n",
        "\n"
      ],
      "metadata": {
        "id": "hZDbjPdSb0ft"
      }
    },
    {
      "cell_type": "code",
      "source": [
        "s = {1, 2, 3, 4, 5}\n",
        "s.clear()\n",
        "print(s)"
      ],
      "metadata": {
        "id": "0bJUDjzib05Y",
        "colab": {
          "base_uri": "https://localhost:8080/"
        },
        "outputId": "9f4b8d66-c266-491f-ad92-283fe814aa4d"
      },
      "execution_count": 17,
      "outputs": [
        {
          "output_type": "stream",
          "name": "stdout",
          "text": [
            "set()\n"
          ]
        }
      ]
    },
    {
      "cell_type": "markdown",
      "source": [
        "\n",
        "# 18.Write a code to remove the element 4 from the set {1, 2, 3, 4}\n",
        "\n"
      ],
      "metadata": {
        "id": "tIRLOlzrb1xO"
      }
    },
    {
      "cell_type": "code",
      "source": [
        "s = {1, 2, 3, 4}\n",
        "s.remove(4)\n",
        "print(s)\n"
      ],
      "metadata": {
        "id": "66PD5fpfb2Ks",
        "colab": {
          "base_uri": "https://localhost:8080/"
        },
        "outputId": "447adf1d-228d-404e-dfeb-48b312c2ec51"
      },
      "execution_count": 18,
      "outputs": [
        {
          "output_type": "stream",
          "name": "stdout",
          "text": [
            "{1, 2, 3}\n"
          ]
        }
      ]
    },
    {
      "cell_type": "markdown",
      "source": [
        "# 19.Write a code to find the union of two sets {1, 2, 3} and {3, 4, 5}\n",
        "\n",
        "\n"
      ],
      "metadata": {
        "id": "KQvj-yGKb2l9"
      }
    },
    {
      "cell_type": "code",
      "source": [
        "print({1, 2, 3}.union({3, 4, 5}))"
      ],
      "metadata": {
        "id": "o_vQ3HtYb3IM",
        "colab": {
          "base_uri": "https://localhost:8080/"
        },
        "outputId": "a0b78e0a-336d-478f-b5c1-10b5602f91ee"
      },
      "execution_count": 19,
      "outputs": [
        {
          "output_type": "stream",
          "name": "stdout",
          "text": [
            "{1, 2, 3, 4, 5}\n"
          ]
        }
      ]
    },
    {
      "cell_type": "markdown",
      "source": [
        "# 20.Write a code to find the intersection of two sets {1, 2, 3} and {2, 3, 4}\n"
      ],
      "metadata": {
        "id": "fIoo3DblccNE"
      }
    },
    {
      "cell_type": "code",
      "source": [
        "print({1, 2, 3}.intersection({2, 3, 4}))"
      ],
      "metadata": {
        "id": "gzKuETnCccid",
        "colab": {
          "base_uri": "https://localhost:8080/"
        },
        "outputId": "d29ffdc3-d7bf-4453-e8d5-5d70a296f2eb"
      },
      "execution_count": 20,
      "outputs": [
        {
          "output_type": "stream",
          "name": "stdout",
          "text": [
            "{2, 3}\n"
          ]
        }
      ]
    },
    {
      "cell_type": "markdown",
      "source": [
        "# 21.Write a code to create a dictionary with keys \"name\", \"age\", and \"city\", and print it\n"
      ],
      "metadata": {
        "id": "sRnTeo_ccfwe"
      }
    },
    {
      "cell_type": "code",
      "source": [
        "person = {\"name\": \"John\", \"age\": 25, \"city\": \"New York\"}\n",
        "print(person)\n",
        "\n"
      ],
      "metadata": {
        "id": "ft1zEfDicgIj",
        "colab": {
          "base_uri": "https://localhost:8080/"
        },
        "outputId": "0dc313d0-c090-4b7a-84e1-61a968fd338d"
      },
      "execution_count": 21,
      "outputs": [
        {
          "output_type": "stream",
          "name": "stdout",
          "text": [
            "{'name': 'John', 'age': 25, 'city': 'New York'}\n"
          ]
        }
      ]
    },
    {
      "cell_type": "markdown",
      "source": [
        "# 22.Write a code to add a new key-value pair \"country\": \"USA\" to the dictionary\n",
        "\n",
        "\n"
      ],
      "metadata": {
        "id": "5aw8IAndcge5"
      }
    },
    {
      "cell_type": "code",
      "source": [
        "person[\"country\"] = \"USA\"\n",
        "print(person)"
      ],
      "metadata": {
        "id": "dzlRTidwcg4d",
        "colab": {
          "base_uri": "https://localhost:8080/"
        },
        "outputId": "7e4b9799-6b7e-46fd-e8ff-78e4fe26fc8f"
      },
      "execution_count": 22,
      "outputs": [
        {
          "output_type": "stream",
          "name": "stdout",
          "text": [
            "{'name': 'John', 'age': 25, 'city': 'New York', 'country': 'USA'}\n"
          ]
        }
      ]
    },
    {
      "cell_type": "markdown",
      "source": [
        "# 23. Write a code to access the value associated with \"name\" in {'name': 'Alice', 'age': 30}\n"
      ],
      "metadata": {
        "id": "FztHS2rCchN0"
      }
    },
    {
      "cell_type": "code",
      "source": [
        "print({'name': 'Alice', 'age': 30}[\"name\"])\n",
        "\n"
      ],
      "metadata": {
        "id": "GTuwK2G7ch9h",
        "colab": {
          "base_uri": "https://localhost:8080/"
        },
        "outputId": "fbd1ecad-bcc9-4e70-a6c1-78af53aa2eb2"
      },
      "execution_count": 23,
      "outputs": [
        {
          "output_type": "stream",
          "name": "stdout",
          "text": [
            "Alice\n"
          ]
        }
      ]
    },
    {
      "cell_type": "markdown",
      "source": [
        "# 24.Write a code to remove the key \"age\" from {'name': 'Bob', 'age': 22, 'city': 'New York'}\n",
        "\n"
      ],
      "metadata": {
        "id": "YGLBREUvciS3"
      }
    },
    {
      "cell_type": "code",
      "source": [
        "d = {'name': 'Bob', 'age': 22, 'city': 'New York'}\n",
        "del d[\"age\"]\n",
        "print(d)\n"
      ],
      "metadata": {
        "id": "1fgamE7Sci-_",
        "colab": {
          "base_uri": "https://localhost:8080/"
        },
        "outputId": "f86258c2-09f4-4bbb-921a-4d17e021d9b7"
      },
      "execution_count": 24,
      "outputs": [
        {
          "output_type": "stream",
          "name": "stdout",
          "text": [
            "{'name': 'Bob', 'city': 'New York'}\n"
          ]
        }
      ]
    },
    {
      "cell_type": "markdown",
      "source": [
        "# 25. Write a code to check if the key \"city\" exists in {'name': 'Alice', 'city': 'Paris'}"
      ],
      "metadata": {
        "id": "LT4qYL1Hd_2l"
      }
    },
    {
      "cell_type": "code",
      "source": [
        "\n",
        "print(\"city\" in {'name': 'Alice', 'city': 'Paris'})"
      ],
      "metadata": {
        "id": "Bev2i8a3cjVa",
        "colab": {
          "base_uri": "https://localhost:8080/"
        },
        "outputId": "7c586014-0aac-4ecf-af72-7805e4ed4d6e"
      },
      "execution_count": 25,
      "outputs": [
        {
          "output_type": "stream",
          "name": "stdout",
          "text": [
            "True\n"
          ]
        }
      ]
    },
    {
      "cell_type": "markdown",
      "source": [
        "#26. Write a code to create a list, a tuple, and a dictionary, and print them all."
      ],
      "metadata": {
        "id": "jKGFqdYNeDCl"
      }
    },
    {
      "cell_type": "code",
      "source": [
        "my_list = [1, 2, 3, 4]\n",
        "my_tuple = (5, 6, 7, 8)\n",
        "my_dict = {\"a\": 1, \"b\": 2}\n",
        "\n",
        "print(\"List:\", my_list)\n",
        "print(\"Tuple:\", my_tuple)\n",
        "print(\"Dictionary:\", my_dict)\n"
      ],
      "metadata": {
        "id": "NZ9Ehx_LckA_",
        "colab": {
          "base_uri": "https://localhost:8080/"
        },
        "outputId": "0a798270-5aac-47e3-ef47-95e9d21a7af7"
      },
      "execution_count": 26,
      "outputs": [
        {
          "output_type": "stream",
          "name": "stdout",
          "text": [
            "List: [1, 2, 3, 4]\n",
            "Tuple: (5, 6, 7, 8)\n",
            "Dictionary: {'a': 1, 'b': 2}\n"
          ]
        }
      ]
    },
    {
      "cell_type": "markdown",
      "source": [
        "#27. Write a code to create a list of 5 random numbers between 1 and 100, sort it in ascending order, and print the result.(replaced)"
      ],
      "metadata": {
        "id": "x8jYKv3peOGM"
      }
    },
    {
      "cell_type": "code",
      "source": [
        "import random\n",
        "\n",
        "random_list = random.sample(range(1, 101), 5)\n",
        "random_list.sort()\n",
        "print(\"Sorted Random List:\", random_list)\n"
      ],
      "metadata": {
        "colab": {
          "base_uri": "https://localhost:8080/"
        },
        "id": "QiQ_YakfepN2",
        "outputId": "0fbb26bd-faee-42c1-d23d-537677d4078d"
      },
      "execution_count": 27,
      "outputs": [
        {
          "output_type": "stream",
          "name": "stdout",
          "text": [
            "Sorted Random List: [56, 71, 86, 89, 96]\n"
          ]
        }
      ]
    },
    {
      "cell_type": "markdown",
      "source": [
        "#28. Write a code to create a list with strings and print the element at the third index."
      ],
      "metadata": {
        "id": "xoRpPem_ep88"
      }
    },
    {
      "cell_type": "code",
      "source": [
        "string_list = [\"apple\", \"banana\", \"cherry\", \"date\", \"elderberry\"]\n",
        "print(\"Element at index 3:\", string_list[3])\n"
      ],
      "metadata": {
        "colab": {
          "base_uri": "https://localhost:8080/"
        },
        "id": "AdFcBXbce2Ot",
        "outputId": "a5c4ea55-fe36-4f93-d9f6-e2b92794da49"
      },
      "execution_count": 28,
      "outputs": [
        {
          "output_type": "stream",
          "name": "stdout",
          "text": [
            "Element at index 3: date\n"
          ]
        }
      ]
    },
    {
      "cell_type": "markdown",
      "source": [
        "#29. Write a code to combine two dictionaries into one and print the result."
      ],
      "metadata": {
        "id": "-Rpgarqwe1E9"
      }
    },
    {
      "cell_type": "code",
      "source": [
        "dict1 = {\"x\": 1, \"y\": 2}\n",
        "dict2 = {\"y\": 3, \"z\": 4}\n",
        "\n",
        "combined_dict = {**dict1, **dict2}  # dict2 values will override dict1 if keys match\n",
        "print(\"Combined Dictionary:\", combined_dict)\n"
      ],
      "metadata": {
        "colab": {
          "base_uri": "https://localhost:8080/"
        },
        "id": "bSFjYgMtfgip",
        "outputId": "ab8730ad-1d8e-497f-a151-1ca42d4966cd"
      },
      "execution_count": 29,
      "outputs": [
        {
          "output_type": "stream",
          "name": "stdout",
          "text": [
            "Combined Dictionary: {'x': 1, 'y': 3, 'z': 4}\n"
          ]
        }
      ]
    },
    {
      "cell_type": "markdown",
      "source": [
        "\n",
        "\n",
        "# 30.Write a code to convert a list of strings into a set\n",
        "\n"
      ],
      "metadata": {
        "id": "dQZe8qwZ5HPu"
      }
    },
    {
      "cell_type": "code",
      "source": [
        "str_list = [\"apple\", \"banana\", \"cherry\", \"banana\"]\n",
        "print(set(str_list))"
      ],
      "metadata": {
        "id": "DYi_RQyCUxIR",
        "colab": {
          "base_uri": "https://localhost:8080/"
        },
        "outputId": "a64613ab-b859-4b61-9b72-d1f16b64231f"
      },
      "execution_count": 30,
      "outputs": [
        {
          "output_type": "stream",
          "name": "stdout",
          "text": [
            "{'cherry', 'banana', 'apple'}\n"
          ]
        }
      ]
    }
  ]
}